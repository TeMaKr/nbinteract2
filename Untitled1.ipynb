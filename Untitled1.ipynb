{
 "cells": [
  {
   "cell_type": "code",
   "execution_count": 2,
   "metadata": {},
   "outputs": [],
   "source": [
    "# nbi:hide_in\n",
    "import numpy as np\n",
    "import pandas as pd\n",
    "import scipy\n",
    "import itables.interactive\n",
    "from itables import show"
   ]
  },
  {
   "cell_type": "code",
   "execution_count": 3,
   "metadata": {},
   "outputs": [],
   "source": [
    "# nbi:hide_in\n",
    "import ipywidgets as widgets\n",
    "from ipywidgets import interact, interactive, fixed, interact_manual"
   ]
  },
  {
   "cell_type": "code",
   "execution_count": 4,
   "metadata": {},
   "outputs": [],
   "source": [
    "# nbi:hide_in\n",
    "df=pd.read_csv(\".\\data\\PIX_Report.csv\", encoding='utf-8', sep=\",\")"
   ]
  },
  {
   "cell_type": "code",
   "execution_count": 5,
   "metadata": {},
   "outputs": [],
   "source": [
    "# nbi:hide_in\n",
    "df['PublishDate']=pd.to_datetime(df['PublishDate'])"
   ]
  },
  {
   "cell_type": "code",
   "execution_count": 6,
   "metadata": {},
   "outputs": [],
   "source": [
    "# nbi:hide_in\n",
    "df.set_index('PublishDate', inplace=True)"
   ]
  },
  {
   "cell_type": "code",
   "execution_count": 7,
   "metadata": {},
   "outputs": [],
   "source": [
    "# nbi:hide_in\n",
    "def print_articles_published(min_PublishDate, \n",
    "                             max_PublishDate,\n",
    "                             column=['IndexPIX', 'IndexLDPIX', 'IndexRWPIX'], \n",
    "                             minimum=(0,100, 1), \n",
    "                             maximum=(0,100, 1)):\n",
    "    \n",
    "    min_PublishDate = pd.to_datetime(min_PublishDate)\n",
    "    max_PublishDate = pd.to_datetime(max_PublishDate)\n",
    "    #return df_PIX_display.loc[(df_PIX_display[column] > minimum) & (df_PIX_display[column] < maximum)]\n",
    "    return df.loc[(df.index >= min_PublishDate) \n",
    "                  & (df.index <= max_PublishDate)\n",
    "                  &((df[column]) > minimum) \n",
    "                  & ((df[column]) < maximum)].sort_values(column)"
   ]
  },
  {
   "cell_type": "code",
   "execution_count": 8,
   "metadata": {},
   "outputs": [
    {
     "data": {
      "application/vnd.jupyter.widget-view+json": {
       "model_id": "75aa7dc195854d35ade9f370b105f291",
       "version_major": 2,
       "version_minor": 0
      },
      "text/plain": [
       "interactive(children=(DatePicker(value=Timestamp('2020-03-11 00:00:00'), description='min_PublishDate'), DateP…"
      ]
     },
     "metadata": {},
     "output_type": "display_data"
    }
   ],
   "source": [
    "# nbi:hide_in\n",
    "_ = interact(print_articles_published,\n",
    "             min_PublishDate=widgets.DatePicker(value=pd.to_datetime('2020-03-11')),\n",
    "             max_PublishDate=widgets.DatePicker(value=pd.to_datetime('2021-01-01')))"
   ]
  },
  {
   "cell_type": "code",
   "execution_count": null,
   "metadata": {},
   "outputs": [],
   "source": []
  }
 ],
 "metadata": {
  "kernelspec": {
   "display_name": "Python 3",
   "language": "python",
   "name": "python3"
  },
  "language_info": {
   "codemirror_mode": {
    "name": "ipython",
    "version": 3
   },
   "file_extension": ".py",
   "mimetype": "text/x-python",
   "name": "python",
   "nbconvert_exporter": "python",
   "pygments_lexer": "ipython3",
   "version": "3.7.6"
  },
  "toc": {
   "base_numbering": 1,
   "nav_menu": {},
   "number_sections": true,
   "sideBar": true,
   "skip_h1_title": false,
   "title_cell": "Table of Contents",
   "title_sidebar": "Contents",
   "toc_cell": false,
   "toc_position": {},
   "toc_section_display": true,
   "toc_window_display": false
  }
 },
 "nbformat": 4,
 "nbformat_minor": 2
}
